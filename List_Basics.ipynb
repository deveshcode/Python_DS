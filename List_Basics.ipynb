{
 "cells": [
  {
   "cell_type": "markdown",
   "id": "37790a9c",
   "metadata": {},
   "source": [
    "# Creating a sample list and testing out its important functionality"
   ]
  },
  {
   "cell_type": "markdown",
   "id": "e01e230e",
   "metadata": {},
   "source": [
    "## Basic List Methods\n",
    "\n",
    "- L[i] the ith element of L\n",
    "- L[i:j] the list of elements with indices starting at i and up to (but not including) j\n",
    "- L[:j] the first j elements\n",
    "- L[i:] all the elements from the ith onwards\n",
    "- L[-3:] the last three elements of L\n",
    "- L[i:j:k] elements from the ith up to (but not including) the jth, taking only every kth element\n",
    "- L[::2] the elements of L with even indices\n",
    "- L[::-1] a reverse copy of L"
   ]
  },
  {
   "cell_type": "code",
   "execution_count": 1,
   "id": "c8850e00",
   "metadata": {},
   "outputs": [],
   "source": [
    "# this is how you can define a list of elements \n",
    "\n",
    "friends = [\"first\", \"second\", \"third\", \"fourth\", \"fifth\"]"
   ]
  },
  {
   "cell_type": "code",
   "execution_count": 2,
   "id": "0b86dc09",
   "metadata": {},
   "outputs": [
    {
     "name": "stdout",
     "output_type": "stream",
     "text": [
      "['first', 'second', 'third', 'fourth', 'fifth']\n"
     ]
    }
   ],
   "source": [
    "# printing the list\n",
    "\n",
    "print(friends)"
   ]
  },
  {
   "cell_type": "code",
   "execution_count": 3,
   "id": "5dc754da",
   "metadata": {},
   "outputs": [
    {
     "data": {
      "text/plain": [
       "['first']"
      ]
     },
     "execution_count": 3,
     "metadata": {},
     "output_type": "execute_result"
    }
   ],
   "source": [
    "# slicing the list for a single element using sublist\n",
    "\n",
    "friends[0:1]"
   ]
  },
  {
   "cell_type": "code",
   "execution_count": 4,
   "id": "06968269",
   "metadata": {},
   "outputs": [
    {
     "data": {
      "text/plain": [
       "['second', 'third']"
      ]
     },
     "execution_count": 4,
     "metadata": {},
     "output_type": "execute_result"
    }
   ],
   "source": [
    "# L[i:j] the list of elements with indices starting at i and up to (but not including) j\n",
    "\n",
    "friends[1:3]"
   ]
  },
  {
   "cell_type": "code",
   "execution_count": 5,
   "id": "c0b6b919",
   "metadata": {},
   "outputs": [
    {
     "data": {
      "text/plain": [
       "['first', 'second', 'third']"
      ]
     },
     "execution_count": 5,
     "metadata": {},
     "output_type": "execute_result"
    }
   ],
   "source": [
    "# the first j elements\n",
    "\n",
    "friends[:3]"
   ]
  },
  {
   "cell_type": "code",
   "execution_count": 6,
   "id": "2527af60",
   "metadata": {},
   "outputs": [
    {
     "data": {
      "text/plain": [
       "['fourth', 'fifth']"
      ]
     },
     "execution_count": 6,
     "metadata": {},
     "output_type": "execute_result"
    }
   ],
   "source": [
    "# ith element and onwards \n",
    "\n",
    "friends[3:]"
   ]
  },
  {
   "cell_type": "code",
   "execution_count": 7,
   "id": "9d907610",
   "metadata": {},
   "outputs": [
    {
     "data": {
      "text/plain": [
       "['third', 'fourth', 'fifth']"
      ]
     },
     "execution_count": 7,
     "metadata": {},
     "output_type": "execute_result"
    }
   ],
   "source": [
    "# last 3 elements\n",
    "\n",
    "friends[-3:]"
   ]
  },
  {
   "cell_type": "code",
   "execution_count": 8,
   "id": "bd334e5c",
   "metadata": {},
   "outputs": [
    {
     "data": {
      "text/plain": [
       "['first', 'third', 'fifth']"
      ]
     },
     "execution_count": 8,
     "metadata": {},
     "output_type": "execute_result"
    }
   ],
   "source": [
    "# elements from the ith up to (but not including) the jth, taking only every kth elemen\n",
    "\n",
    "friends[:5:2]"
   ]
  },
  {
   "cell_type": "code",
   "execution_count": 9,
   "id": "79b171fa",
   "metadata": {},
   "outputs": [
    {
     "data": {
      "text/plain": [
       "['first', 'third', 'fifth']"
      ]
     },
     "execution_count": 9,
     "metadata": {},
     "output_type": "execute_result"
    }
   ],
   "source": [
    "# similarly elements of list with even indices\n",
    "\n",
    "friends[::2]"
   ]
  },
  {
   "cell_type": "code",
   "execution_count": 11,
   "id": "662bc71a",
   "metadata": {},
   "outputs": [
    {
     "data": {
      "text/plain": [
       "['fifth', 'fourth', 'third', 'second', 'first']"
      ]
     },
     "execution_count": 11,
     "metadata": {},
     "output_type": "execute_result"
    }
   ],
   "source": [
    "# and thus reversing the list using the same logic\n",
    "\n",
    "friends[::-1]"
   ]
  },
  {
   "cell_type": "markdown",
   "id": "33b00572",
   "metadata": {},
   "source": [
    "## Important List methods and their complexities\n",
    "\n",
    "- len(L) returns the number of elements of the list L O(1)\n",
    "- sorted(L) returns a sorted copy of the list L O(n log n)\n",
    "- L.sort() sorts L in place O(n log n)\n",
    "- L.count(c) the number of occurrences of c in L O(n)\n",
    "- c in L is the element c found in L? O(n)\n",
    "- L.append(c) append c to the end of L amortised O(1)\n",
    "- L.pop() extracts and returns the last element of L amortised O(1)"
   ]
  },
  {
   "cell_type": "code",
   "execution_count": 12,
   "id": "e1e32845",
   "metadata": {},
   "outputs": [
    {
     "data": {
      "text/plain": [
       "5"
      ]
     },
     "execution_count": 12,
     "metadata": {},
     "output_type": "execute_result"
    }
   ],
   "source": [
    "len(friends)"
   ]
  },
  {
   "cell_type": "code",
   "execution_count": 13,
   "id": "c6c69b04",
   "metadata": {},
   "outputs": [
    {
     "name": "stdout",
     "output_type": "stream",
     "text": [
      "['fifth', 'first', 'fourth', 'second', 'third']\n"
     ]
    },
    {
     "data": {
      "text/plain": [
       "['first', 'second', 'third', 'fourth', 'fifth']"
      ]
     },
     "execution_count": 13,
     "metadata": {},
     "output_type": "execute_result"
    }
   ],
   "source": [
    "# just returns the sorted output .. original list still intact\n",
    "print(sorted(friends))\n",
    "friends"
   ]
  },
  {
   "cell_type": "code",
   "execution_count": 14,
   "id": "962fa993",
   "metadata": {},
   "outputs": [
    {
     "data": {
      "text/plain": [
       "['fifth', 'first', 'fourth', 'second', 'third']"
      ]
     },
     "execution_count": 14,
     "metadata": {},
     "output_type": "execute_result"
    }
   ],
   "source": [
    "# actually sorts the real list \n",
    "\n",
    "friends.sort()\n",
    "friends"
   ]
  },
  {
   "cell_type": "code",
   "execution_count": 15,
   "id": "81d38258",
   "metadata": {},
   "outputs": [
    {
     "data": {
      "text/plain": [
       "1"
      ]
     },
     "execution_count": 15,
     "metadata": {},
     "output_type": "execute_result"
    }
   ],
   "source": [
    "# count of an element in a list\n",
    "\n",
    "friends.count('first')"
   ]
  },
  {
   "cell_type": "code",
   "execution_count": 16,
   "id": "397cb034",
   "metadata": {},
   "outputs": [
    {
     "data": {
      "text/plain": [
       "True"
      ]
     },
     "execution_count": 16,
     "metadata": {},
     "output_type": "execute_result"
    }
   ],
   "source": [
    "# is this element present in list\n",
    "\n",
    "'first' in friends"
   ]
  },
  {
   "cell_type": "code",
   "execution_count": 17,
   "id": "3a83df52",
   "metadata": {},
   "outputs": [
    {
     "data": {
      "text/plain": [
       "['fifth', 'first', 'fourth', 'second', 'third', 'sixth']"
      ]
     },
     "execution_count": 17,
     "metadata": {},
     "output_type": "execute_result"
    }
   ],
   "source": [
    "friends.append('sixth')\n",
    "friends"
   ]
  },
  {
   "cell_type": "code",
   "execution_count": 18,
   "id": "8f96706b",
   "metadata": {},
   "outputs": [
    {
     "data": {
      "text/plain": [
       "'sixth'"
      ]
     },
     "execution_count": 18,
     "metadata": {},
     "output_type": "execute_result"
    }
   ],
   "source": [
    "friends.pop()"
   ]
  },
  {
   "cell_type": "code",
   "execution_count": 21,
   "id": "77f1bdf2",
   "metadata": {},
   "outputs": [
    {
     "name": "stdout",
     "output_type": "stream",
     "text": [
      "[1, 4, 6, 8]\n",
      "[1, 3, 5, 7]\n"
     ]
    }
   ],
   "source": [
    "# Correcting mistake values in a list\n",
    "odd = [2, 4, 6, 8]\n",
    "\n",
    "# change the 1st item    \n",
    "odd[0] = 1            \n",
    "\n",
    "print(odd)\n",
    "\n",
    "# change 2nd to 4th items\n",
    "odd[1:4] = [3, 5, 7]  \n",
    "\n",
    "print(odd)"
   ]
  },
  {
   "cell_type": "code",
   "execution_count": 22,
   "id": "55dfcd0e",
   "metadata": {},
   "outputs": [
    {
     "name": "stdout",
     "output_type": "stream",
     "text": [
      "[1, 3, 5, 7]\n",
      "[1, 3, 5, 7, 9, 11, 13]\n"
     ]
    }
   ],
   "source": [
    "# Appending and Extending lists in Python\n",
    "odd = [1, 3, 5]\n",
    "\n",
    "odd.append(7)\n",
    "\n",
    "print(odd)\n",
    "\n",
    "odd.extend([9, 11, 13])\n",
    "\n",
    "print(odd)\n"
   ]
  },
  {
   "cell_type": "code",
   "execution_count": 23,
   "id": "34d0a6f9",
   "metadata": {},
   "outputs": [
    {
     "name": "stdout",
     "output_type": "stream",
     "text": [
      "[1, 3, 5, 9, 7, 5]\n",
      "['re', 're', 're']\n"
     ]
    }
   ],
   "source": [
    "# Concatenating and repeating lists\n",
    "odd = [1, 3, 5]\n",
    "\n",
    "print(odd + [9, 7, 5])\n",
    "\n",
    "print([\"re\"] * 3)\n"
   ]
  },
  {
   "cell_type": "code",
   "execution_count": 25,
   "id": "223cf56b",
   "metadata": {},
   "outputs": [
    {
     "name": "stdout",
     "output_type": "stream",
     "text": [
      "[1, 3, 9]\n"
     ]
    }
   ],
   "source": [
    "odd = [1, 9]\n",
    "odd.insert(1,3)\n",
    "\n",
    "print(odd)"
   ]
  },
  {
   "cell_type": "code",
   "execution_count": 27,
   "id": "468ecc90",
   "metadata": {},
   "outputs": [
    {
     "name": "stdout",
     "output_type": "stream",
     "text": [
      "['r', 'o', 'b', 'l', 'e', 'm']\n"
     ]
    }
   ],
   "source": [
    "my_list = ['p','r','o','b','l','e','m']\n",
    "my_list.remove('p')\n",
    "\n",
    "print(my_list)"
   ]
  },
  {
   "cell_type": "code",
   "execution_count": 28,
   "id": "b5b707ca",
   "metadata": {},
   "outputs": [
    {
     "name": "stdout",
     "output_type": "stream",
     "text": [
      "o\n",
      "['r', 'b', 'l', 'e', 'm']\n"
     ]
    }
   ],
   "source": [
    "print(my_list.pop(1))\n",
    "\n",
    "print(my_list)"
   ]
  },
  {
   "cell_type": "code",
   "execution_count": 29,
   "id": "8d23c1e7",
   "metadata": {},
   "outputs": [
    {
     "name": "stdout",
     "output_type": "stream",
     "text": [
      "[]\n"
     ]
    }
   ],
   "source": [
    "my_list.clear()\n",
    "\n",
    "# Output: []\n",
    "print(my_list)\n"
   ]
  }
 ],
 "metadata": {
  "kernelspec": {
   "display_name": "Python 3",
   "language": "python",
   "name": "python3"
  },
  "language_info": {
   "codemirror_mode": {
    "name": "ipython",
    "version": 3
   },
   "file_extension": ".py",
   "mimetype": "text/x-python",
   "name": "python",
   "nbconvert_exporter": "python",
   "pygments_lexer": "ipython3",
   "version": "3.7.12"
  }
 },
 "nbformat": 4,
 "nbformat_minor": 5
}
